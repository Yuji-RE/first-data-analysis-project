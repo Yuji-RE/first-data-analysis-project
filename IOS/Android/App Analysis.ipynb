{
 "cells": [
  {
   "cell_type": "markdown",
   "metadata": {},
   "source": [
    "# iOSとAndroidにおけるモバイルアプリのデータ分析"
   ]
  },
  {
   "cell_type": "markdown",
   "metadata": {},
   "source": [
    "## ⚠ 免責事項\n",
    "\n",
    "このプロジェクトは学習目的で作成されたものであり、  \n",
    "企業内での業務や職歴を示すものではありません。"
   ]
  },
  {
   "cell_type": "markdown",
   "metadata": {},
   "source": [
    "## プロジェクト概要"
   ]
  },
  {
   "cell_type": "markdown",
   "metadata": {},
   "source": [
    "当社のモバイルアプリにおける収益構造は、アプリ内に表示される広告の閲覧数に大きく依存している。したがって、より多くのユーザーを当社のアプリに流入させることが、事業拡大における主要KPIのひとつである。\n",
    "\n",
    "本プロジェクトでは、Kaggleから提供された[Apple Store](https://www.kaggle.com/datasets/ramamet4/app-store-apple-data-set-10k-apps/data)と[Google Play Store](https://www.kaggle.com/datasets/lava18/google-play-store-apps)のパブリックデータセットを用いて、どのようなアプリがユーザーの注目を集めているかを分析する。その結果得られたインサイトをもとに、プロダクトマーケティングチームと連携し、データドリブンな意思決定の促進を図る。"
   ]
  },
  {
   "cell_type": "markdown",
   "metadata": {},
   "source": [
    "## データの読み込み"
   ]
  },
  {
   "cell_type": "markdown",
   "metadata": {},
   "source": [
    "まずは今回使用するApple StoreとGoogle Play StoreのCSVファイルを読み込む。データ分析時にカラムヘッダーが混在するのを防ぐため、ヘッダーとデータの中身を分けて設定しておく。"
   ]
  },
  {
   "cell_type": "code",
   "execution_count": null,
   "metadata": {},
   "outputs": [],
   "source": [
    "# ファイルからデータを読み込み、リスト形式に変換\n",
    "from csv import reader\n",
    "\n",
    "opened_file_apple = open ('AppleStore.csv')\n",
    "read_file_apple = reader(opened_file_apple)\n",
    "apple_store_dataset = list(read_file_apple)\n",
    "apple_header = apple_store_dataset[0]\n",
    "apple_store_dataset = apple_store_dataset[1:]\n",
    "\n",
    "opened_file_google = open('googleplaystore.csv')\n",
    "read_file_google = reader(opened_file_google)\n",
    "google_store_dataset = list(read_file_google)\n",
    "google_header = google_store_dataset[0]\n",
    "google_store_dataset = google_store_dataset[1:]"
   ]
  },
  {
   "cell_type": "markdown",
   "metadata": {},
   "source": [
    "データセットの分析および欠陥検知の土台として、汎用的な関数を作成する。\n",
    "この関数を用いて今回扱っていくデータの概要をつかむ。"
   ]
  },
  {
   "cell_type": "code",
   "execution_count": null,
   "metadata": {
    "scrolled": false
   },
   "outputs": [
    {
     "name": "stdout",
     "output_type": "stream",
     "text": [
      "['id', 'track_name', 'size_bytes', 'currency', 'price', 'rating_count_tot', 'rating_count_ver', 'user_rating', 'user_rating_ver', 'ver', 'cont_rating', 'prime_genre', 'sup_devices.num', 'ipadSc_urls.num', 'lang.num', 'vpp_lic']\n",
      "\n",
      "\n",
      "['284882215', 'Facebook', '389879808', 'USD', '0.0', '2974676', '212', '3.5', '3.5', '95.0', '4+', 'Social Networking', '37', '1', '29', '1']\n",
      "\n",
      "\n",
      "['389801252', 'Instagram', '113954816', 'USD', '0.0', '2161558', '1289', '4.5', '4.0', '10.23', '12+', 'Photo & Video', '37', '0', '29', '1']\n",
      "\n",
      "\n",
      "['529479190', 'Clash of Clans', '116476928', 'USD', '0.0', '2130805', '579', '4.5', '4.5', '9.24.12', '9+', 'Games', '38', '5', '18', '1']\n",
      "\n",
      "\n",
      "Number of rows　in the dataset: 7197\n",
      "Number of columns in the dataset: 16\n",
      "Number of rows the slice: 3\n",
      "Number of columns in the slice: 16\n",
      "None\n"
     ]
    }
   ],
   "source": [
    "# 指定範囲の行データを表示し、必要に応じてデータセット及びスライスの行数・列数も表示する関数\n",
    "def explore_data(dataset, start, end, dataset_R_and_C_number = False, slice_R_and_C_number = False):\n",
    "    dataset_slice = dataset[start:end]\n",
    "    for row in dataset_slice:\n",
    "        print(row)\n",
    "        print('\\n') #各rowの出力毎に改行を加える\n",
    "        \n",
    "    if dataset_R_and_C_number:\n",
    "        print('Number of rows　in the dataset:', len(dataset))\n",
    "        print('Number of columns in the dataset:', len(dataset[0]))\n",
    "        \n",
    "    if slice_R_and_C_number:\n",
    "        print('Number of rows the slice:', len(dataset[start:end]))\n",
    "        print('Number of columns in the slice:', len(dataset[0]))\n",
    "        \n",
    "print(apple_header)\n",
    "print('\\n')\n",
    "print(explore_data(apple_store_dataset, 0, 3, True, True)) # スライスの行・列も同時に確認することでデータに欠損がないかを確認する"
   ]
  },
  {
   "cell_type": "markdown",
   "metadata": {},
   "source": [
    "グーグルストアについても同様に調べる。"
   ]
  },
  {
   "cell_type": "code",
   "execution_count": null,
   "metadata": {
    "scrolled": false
   },
   "outputs": [
    {
     "name": "stdout",
     "output_type": "stream",
     "text": [
      "['App', 'Category', 'Rating', 'Reviews', 'Size', 'Installs', 'Type', 'Price', 'Content Rating', 'Genres', 'Last Updated', 'Current Ver', 'Android Ver']\n",
      "\n",
      "\n",
      "['Photo Editor & Candy Camera & Grid & ScrapBook', 'ART_AND_DESIGN', '4.1', '159', '19M', '10,000+', 'Free', '0', 'Everyone', 'Art & Design', 'January 7, 2018', '1.0.0', '4.0.3 and up']\n",
      "\n",
      "\n",
      "['Coloring book moana', 'ART_AND_DESIGN', '3.9', '967', '14M', '500,000+', 'Free', '0', 'Everyone', 'Art & Design;Pretend Play', 'January 15, 2018', '2.0.0', '4.0.3 and up']\n",
      "\n",
      "\n",
      "['U Launcher Lite – FREE Live Cool Themes, Hide Apps', 'ART_AND_DESIGN', '4.7', '87510', '8.7M', '5,000,000+', 'Free', '0', 'Everyone', 'Art & Design', 'August 1, 2018', '1.2.4', '4.0.3 and up']\n",
      "\n",
      "\n",
      "Number of rows　in the dataset: 10841\n",
      "Number of columns in the dataset: 13\n",
      "Number of rows the slice: 3\n",
      "Number of columns in the slice: 13\n",
      "None\n"
     ]
    }
   ],
   "source": [
    "# ヘッダーを表示させることで各データ要素の視認性を上げる\n",
    "print(google_header)\n",
    "print('\\n')\n",
    "print(explore_data(google_store_dataset, 0, 3, True, True))"
   ]
  },
  {
   "cell_type": "markdown",
   "metadata": {},
   "source": [
    "## 異常データの削除"
   ]
  },
  {
   "cell_type": "markdown",
   "metadata": {},
   "source": [
    "対象のデータセットを提供しているkaggleページのディスカッションにて、グーグルストアのデータセットの10472行目に欠陥があるという指摘があったため、ひとまず確認する。\n",
    "比較を簡単にするために、以下の3点を可視化する。\n",
    "- ヘッダー\n",
    "- 欠陥のない行のサンプル\n",
    "- 欠陥の疑いがある行"
   ]
  },
  {
   "cell_type": "code",
   "execution_count": 4,
   "metadata": {
    "scrolled": true
   },
   "outputs": [
    {
     "name": "stdout",
     "output_type": "stream",
     "text": [
      "['App', 'Category', 'Rating', 'Reviews', 'Size', 'Installs', 'Type', 'Price', 'Content Rating', 'Genres', 'Last Updated', 'Current Ver', 'Android Ver']\n",
      "\n",
      "\n",
      "['Photo Editor & Candy Camera & Grid & ScrapBook', 'ART_AND_DESIGN', '4.1', '159', '19M', '10,000+', 'Free', '0', 'Everyone', 'Art & Design', 'January 7, 2018', '1.0.0', '4.0.3 and up']\n",
      "\n",
      "\n",
      "['Life Made WI-Fi Touchscreen Photo Frame', '1.9', '19', '3.0M', '1,000+', 'Free', '0', 'Everyone', '', 'February 11, 2018', '1.0.19', '4.0 and up']\n"
     ]
    }
   ],
   "source": [
    "print(google_header)\n",
    "print('\\n')\n",
    "print(google_store_dataset[0])\n",
    "print('\\n')\n",
    "print(google_store_dataset[10472])"
   ]
  },
  {
   "cell_type": "markdown",
   "metadata": {},
   "source": [
    "3つ目の要素である'rating'が本来5段階評価のはずが19となっており、異常が発生していることがわかる。また、9つ目の要素も空白になっており、おそらく、この欠損によりほかのバリューの位置関係もずれていることが考えられる。\n",
    "\n",
    "以上のことから、データの一貫性を担保するためにこの行は削除する。\n",
    "念のため、そのデータが削除されているかの確認も含める。"
   ]
  },
  {
   "cell_type": "code",
   "execution_count": null,
   "metadata": {},
   "outputs": [
    {
     "name": "stdout",
     "output_type": "stream",
     "text": [
      "10841\n",
      "10840\n"
     ]
    }
   ],
   "source": [
    "# KaggleのDiscussionで指摘された異常行（10472行目）を削除\n",
    "print(len(google_store_dataset))\n",
    "del google_store_dataset[10472]\n",
    "print(len(google_store_dataset))"
   ]
  },
  {
   "cell_type": "markdown",
   "metadata": {},
   "source": [
    "削除前のデータセットの行数と削除後の行数とで差が1なので、正常に削除が処理された確認が取れた。"
   ]
  },
  {
   "cell_type": "markdown",
   "metadata": {},
   "source": [
    "## 重複するデータの除去"
   ]
  },
  {
   "cell_type": "markdown",
   "metadata": {},
   "source": [
    "グーグルストアのデータには、重複しているデータも存在しているということもkeggleのディスカッションページで指摘されている。その一例として、インスタグラムに関するデータの重複が挙げられているので、まずはそれから確認をしてみる。"
   ]
  },
  {
   "cell_type": "code",
   "execution_count": null,
   "metadata": {},
   "outputs": [
    {
     "name": "stdout",
     "output_type": "stream",
     "text": [
      "['Instagram', 'SOCIAL', '4.5', '66577313', 'Varies with device', '1,000,000,000+', 'Free', '0', 'Teen', 'Social', 'July 31, 2018', 'Varies with device', 'Varies with device']\n",
      "['Instagram', 'SOCIAL', '4.5', '66577446', 'Varies with device', '1,000,000,000+', 'Free', '0', 'Teen', 'Social', 'July 31, 2018', 'Varies with device', 'Varies with device']\n",
      "['Instagram', 'SOCIAL', '4.5', '66577313', 'Varies with device', '1,000,000,000+', 'Free', '0', 'Teen', 'Social', 'July 31, 2018', 'Varies with device', 'Varies with device']\n",
      "['Instagram', 'SOCIAL', '4.5', '66509917', 'Varies with device', '1,000,000,000+', 'Free', '0', 'Teen', 'Social', 'July 31, 2018', 'Varies with device', 'Varies with device']\n"
     ]
    }
   ],
   "source": [
    "# アプリ名がInstagramに対応するものを表示\n",
    "for app in google_store_dataset:\n",
    "    name = app[0]\n",
    "    if name == 'Instagram':\n",
    "        print(app)"
   ]
  },
  {
   "cell_type": "markdown",
   "metadata": {},
   "source": [
    "Instagramのデータの重複が確認できた。\n",
    "\n",
    "このとき、4つ目の要素であるReviews（レビュー件数）のみ、各リスト異なる値をとっていることがわかる。\n",
    "\n",
    "すべてのカテゴリの取得日は共通しているが、reviewsのみ差が生じていることから、考えられる\n",
    "のは取得時間に違いがあるということである。従って、reviewsが多いほど、最近取得されたデータであると推測できる。\n",
    "\n",
    "Instagramの場合は、4つある重複データのうち、reviewsの値が一番大きい3つ目のリストであるため、こちらを分析対象のデータに絞って分析業務を続行する。\n",
    "\n",
    "同様に、重複データが存在するアプリに関しても、reviewsの値が最大のものをこれから分析の対象にできるよう、データの整理を行っていく。\n",
    "\n",
    "---\n",
    "これから、以下のことを行う。\n",
    "- 重複データのあるアプリとそうでないアプリの数を明らかにして、全体像を把握する\n",
    "- 辞書を用いて、各アプリにおいて、レビュー件数が最大のものが含まれているリストのみを抽出する\n",
    "- 抽出したリストの中から、重複しているものを排除する"
   ]
  },
  {
   "cell_type": "code",
   "execution_count": null,
   "metadata": {
    "scrolled": true
   },
   "outputs": [
    {
     "name": "stdout",
     "output_type": "stream",
     "text": [
      "Number of unique apps: 9659\n",
      "Number of duplicate apps: 1181\n",
      "Double check number of unique apps: 1181\n",
      "\n",
      "\n",
      "Examples of duplicate apps: ['Quick PDF Scanner + OCR FREE', 'Box', 'Google My Business', 'ZOOM Cloud Meetings', 'join.me - Simple Meetings', 'Box', 'Zenefits', 'Google Ads', 'Google My Business', 'Slack']\n"
     ]
    }
   ],
   "source": [
    "# アプリ名の重複をチェックするためのリストを初期化\n",
    "duplicate_apps = []\n",
    "unique_apps = [] # 空リストは毎回初期化させるわけにはいかないため、forループの外側に配置する\n",
    "\n",
    "for app in google_store_dataset:\n",
    "    name = app[0]\n",
    "    if name in unique_apps:\n",
    "        duplicate_apps.append(name)\n",
    "    else:\n",
    "        unique_apps.append(name)\n",
    "\n",
    "print('Number of unique apps:', len(unique_apps))\n",
    "print('Number of duplicate apps:', len(duplicate_apps))\n",
    "print('Double check number of unique apps:', len(google_store_dataset)-len(unique_apps)) # 計算が本当にあっているかを確認する\n",
    "print('\\n')\n",
    "print('Examples of duplicate apps:', duplicate_apps[:10])"
   ]
  },
  {
   "cell_type": "code",
   "execution_count": null,
   "metadata": {},
   "outputs": [],
   "source": [
    "# 各アプリの最大レビュー数を記録（重複アプリの中で最も人気のあるものを抽出するため）\n",
    "reviews_max = {}\n",
    "\n",
    "for app in google_store_dataset:\n",
    "    name = app[0]\n",
    "    No_reviews = int(app[3])\n",
    "    if name in reviews_max and reviews_max[name] < No_reviews:\n",
    "        reviews_max[name] = No_reviews\n",
    "    elif name not in reviews_max:\n",
    "        reviews_max[name] = No_reviews"
   ]
  },
  {
   "cell_type": "code",
   "execution_count": null,
   "metadata": {},
   "outputs": [],
   "source": [
    "google_clean = []\n",
    "already_added = []\n",
    "\n",
    "for app in google_store_dataset:\n",
    "    name = app[0]\n",
    "    No_reviews = int(app[3])\n",
    "    \n",
    "   # 最大レビュー数の行だけを追加（重複排除）、かつ二重追加を防ぐ\n",
    "    if reviews_max[name] == No_reviews and name not in already_added:\n",
    "        google_clean.append(app)\n",
    "        already_added.append(name)"
   ]
  },
  {
   "cell_type": "code",
   "execution_count": 10,
   "metadata": {
    "scrolled": true
   },
   "outputs": [
    {
     "name": "stdout",
     "output_type": "stream",
     "text": [
      "['Photo Editor & Candy Camera & Grid & ScrapBook', 'ART_AND_DESIGN', '4.1', '159', '19M', '10,000+', 'Free', '0', 'Everyone', 'Art & Design', 'January 7, 2018', '1.0.0', '4.0.3 and up']\n",
      "\n",
      "\n",
      "['U Launcher Lite – FREE Live Cool Themes, Hide Apps', 'ART_AND_DESIGN', '4.7', '87510', '8.7M', '5,000,000+', 'Free', '0', 'Everyone', 'Art & Design', 'August 1, 2018', '1.2.4', '4.0.3 and up']\n",
      "\n",
      "\n",
      "['Sketch - Draw & Paint', 'ART_AND_DESIGN', '4.5', '215644', '25M', '50,000,000+', 'Free', '0', 'Teen', 'Art & Design', 'June 8, 2018', 'Varies with device', '4.2 and up']\n",
      "\n",
      "\n",
      "Number of rows　in the dataset: 9659\n",
      "Number of columns in the dataset: 13\n",
      "Number of rows the slice: 3\n",
      "Number of columns in the slice: 13\n"
     ]
    }
   ],
   "source": [
    "explore_data(google_clean, 0, 3, True, True)"
   ]
  },
  {
   "cell_type": "markdown",
   "metadata": {},
   "source": [
    "ここで、`google_clean`のリスト内にある行数(アプリの数)と、In[7]のコードセルで調べた`unique_apps`の数が9659で一致していることから、データの抽出が問題なく成功していることがわかる。"
   ]
  },
  {
   "cell_type": "markdown",
   "metadata": {},
   "source": [
    "`apple_store_dataset`に関しては、すでに[kaggleのディスカッションページ](https://www.kaggle.com/datasets/ramamet4/app-store-apple-data-set-10k-apps/discussion) の情報から重複データが存在しないことが予想されるが、一応念のために確認してみる。"
   ]
  },
  {
   "cell_type": "code",
   "execution_count": 11,
   "metadata": {},
   "outputs": [
    {
     "name": "stdout",
     "output_type": "stream",
     "text": [
      "Number of unique apps: 0\n",
      "Number of duplicate apps: 0\n",
      "Double check number of unique apps: 7197\n",
      "\n",
      "\n",
      "Examples of duplicate apps: []\n"
     ]
    }
   ],
   "source": [
    "apple_duplicate_apps = []\n",
    "apple_unique_apps = []\n",
    "\n",
    "for apps in apple_store_dataset:\n",
    "    apps_id = app[0]\n",
    "    if apps_id in unique_apps:\n",
    "        duplicate_apps.append(apps_id)\n",
    "    else:\n",
    "        unique_apps.append(apps_id)\n",
    "\n",
    "print('Number of unique apps:', len(apple_unique_apps))\n",
    "print('Number of duplicate apps:', len(apple_duplicate_apps))\n",
    "print('Double check number of unique apps:', len(apple_store_dataset)-len(apple_unique_apps)) # 計算が本当にあっているかを確認する\n",
    "print('\\n')\n",
    "print('Examples of duplicate apps:', apple_duplicate_apps[:10])"
   ]
  },
  {
   "cell_type": "markdown",
   "metadata": {},
   "source": [
    "実際に、アップルストアのデータセットには重複アプリがないことが確認できた。"
   ]
  },
  {
   "cell_type": "markdown",
   "metadata": {},
   "source": [
    "## 有料アプリの除去"
   ]
  },
  {
   "cell_type": "markdown",
   "metadata": {},
   "source": [
    "弊社の製品は英語話者向けのコンテンツであるため、データセットの中から英語のアプリ以外を取り除いていく作業に取り掛かる。\n",
    "\n",
    "英語で使われるアルファベットや記号などはASCII(American Standard Code for Infromation Interchange)というシステム基準が使われており、識別番号がそれぞれに振り当てられているので、それを利用して英語以外のアプリを除去する。\n",
    "\n",
    "この際、ASCIIを識別できる組み込み関数の`ord()`を使って処理する。\n",
    "\n",
    "また、ASCIIには絵文字や特別な記号などは含まれていないので、それらの文字が含まれるアプリをなるべく取り逃さないためも、「ASCII基準の文字・記号がが3語より多く含まれているアプリのみを排除する関数」を定義する。"
   ]
  },
  {
   "cell_type": "code",
   "execution_count": null,
   "metadata": {},
   "outputs": [],
   "source": [
    "# 英語アプリだとみなせる条件を満たすアプリ以外を排除する関数\n",
    "def is_english(string):\n",
    "    non_ascii = 0\n",
    "    \n",
    "    for characters in string:\n",
    "        if ord(characters) > 127:\n",
    "            non_ascii += 1\n",
    "            \n",
    "    if non_ascii > 3:\n",
    "        return False\n",
    "    else:\n",
    "        return True"
   ]
  },
  {
   "cell_type": "markdown",
   "metadata": {},
   "source": [
    "定義した`is_english()`関数を用いて、アップルストアとグーグルストアのデータセットから英語のみのアプリの抽出を試みる。"
   ]
  },
  {
   "cell_type": "code",
   "execution_count": null,
   "metadata": {
    "scrolled": true
   },
   "outputs": [
    {
     "name": "stdout",
     "output_type": "stream",
     "text": [
      "['284882215', 'Facebook', '389879808', 'USD', '0.0', '2974676', '212', '3.5', '3.5', '95.0', '4+', 'Social Networking', '37', '1', '29', '1']\n",
      "\n",
      "\n",
      "['389801252', 'Instagram', '113954816', 'USD', '0.0', '2161558', '1289', '4.5', '4.0', '10.23', '12+', 'Photo & Video', '37', '0', '29', '1']\n",
      "\n",
      "\n",
      "['529479190', 'Clash of Clans', '116476928', 'USD', '0.0', '2130805', '579', '4.5', '4.5', '9.24.12', '9+', 'Games', '38', '5', '18', '1']\n",
      "\n",
      "\n",
      "Number of rows　in the dataset: 6183\n",
      "Number of columns in the dataset: 16\n",
      "Number of rows the slice: 3\n",
      "Number of columns in the slice: 16\n",
      "\n",
      "\n",
      "['Photo Editor & Candy Camera & Grid & ScrapBook', 'ART_AND_DESIGN', '4.1', '159', '19M', '10,000+', 'Free', '0', 'Everyone', 'Art & Design', 'January 7, 2018', '1.0.0', '4.0.3 and up']\n",
      "\n",
      "\n",
      "['U Launcher Lite – FREE Live Cool Themes, Hide Apps', 'ART_AND_DESIGN', '4.7', '87510', '8.7M', '5,000,000+', 'Free', '0', 'Everyone', 'Art & Design', 'August 1, 2018', '1.2.4', '4.0.3 and up']\n",
      "\n",
      "\n",
      "['Sketch - Draw & Paint', 'ART_AND_DESIGN', '4.5', '215644', '25M', '50,000,000+', 'Free', '0', 'Teen', 'Art & Design', 'June 8, 2018', 'Varies with device', '4.2 and up']\n",
      "\n",
      "\n",
      "Number of rows　in the dataset: 9614\n",
      "Number of columns in the dataset: 13\n",
      "Number of rows the slice: 3\n",
      "Number of columns in the slice: 13\n"
     ]
    }
   ],
   "source": [
    "# 指定条件を満たす英語アプリを加えるための空リストを用意\n",
    "apple_english = []\n",
    "google_english = []\n",
    "\n",
    "for apple_apps in apple_store_dataset:\n",
    "    apple_name = apple_apps[1]\n",
    "    if is_english(apple_name):\n",
    "        apple_english.append(apple_apps)\n",
    "        \n",
    "        \n",
    "for google_apps in google_clean:\n",
    "    google_name = google_apps[0]\n",
    "    if is_english(google_name):\n",
    "        google_english.append(google_apps)\n",
    "        \n",
    "explore_data(apple_english, 0, 3, True, True)\n",
    "print('\\n')\n",
    "explore_data(google_english, 0, 3, True, True)"
   ]
  },
  {
   "cell_type": "markdown",
   "metadata": {},
   "source": [
    "英語アプリについて、アップルストアアプリでは7197個、グーグルストアのアプリでは10840個あることが分かった。"
   ]
  },
  {
   "cell_type": "markdown",
   "metadata": {},
   "source": [
    "\n",
    "## 無料アプリの分離"
   ]
  },
  {
   "cell_type": "markdown",
   "metadata": {},
   "source": [
    "次に、弊社の製品と同じ「無料」であるアプリを絞る。"
   ]
  },
  {
   "cell_type": "code",
   "execution_count": null,
   "metadata": {},
   "outputs": [
    {
     "name": "stdout",
     "output_type": "stream",
     "text": [
      "3222\n",
      "8864\n"
     ]
    }
   ],
   "source": [
    "# 無料アプリを加えるための空リストを用意\n",
    "free_english_apple = []\n",
    "free_english_google = []\n",
    "\n",
    "for apple_apps in apple_english:\n",
    "    apple_price = apple_apps[4]\n",
    "    if apple_price == '0.0':\n",
    "        free_english_apple.append(apple_apps)\n",
    "        \n",
    "for google_apps in google_english:\n",
    "    google_price = google_apps[7]\n",
    "    if google_price == '0':\n",
    "        free_english_google.append(google_apps)\n",
    "        \n",
    "print(len(free_english_apple))\n",
    "print(len(free_english_google))"
   ]
  },
  {
   "cell_type": "markdown",
   "metadata": {},
   "source": [
    "無料の英語アプリは、アップルストアでは3222個、グーグルストアでは8864個のサンプルが手元に入った。細かな条件設定を行っていけば、より正確な数字が求められると考えられるが、今プロジェクトの分析KPIの観点においては、十分なサンプル数であるためこれで一旦見切りをつける。"
   ]
  },
  {
   "cell_type": "markdown",
   "metadata": {},
   "source": [
    "## 流通量が多いジャンル"
   ]
  },
  {
   "cell_type": "markdown",
   "metadata": {},
   "source": [
    "イントロでも述べたように、私たちはどのようなアプリが需要が高いのかを調べることで、より多くのユーザーを獲得できるアプリ開発の実現を目指している。\n",
    "\n",
    "アプリ開発のコスト削減のため、次のような施策を図る。\n",
    "\n",
    "1. 最小限コストでAndroid版アプリを開発し、最初はグーグルストアで発信する\n",
    "2. もしアプリが好評なら、さらに改善拡充を行う\n",
    "3. もし6か月以上経ってもアプリが収益源になると判断されたら、IOS版も作成しアップルストアで発信する\n",
    "\n",
    "このように、最終的にはアップルストアとグーグルストアの両方にアプリを掲載することが目標となるため、両方のプラットフォームで市場分析を行う必要がある。\n",
    "\n",
    "---\n",
    "まずは、アップルストアデータセットの`prime_genre`コラム、グーグルストアデータセットの`Genre`,`Category`コラムを参照しつつ辞書で頻度テーブルを作成する。\n",
    "\n",
    "そのうえで、以下の2つの関数:\n",
    "\n",
    "- 各ジャンルの頻度をパーセンテージで表すことができる関数\n",
    "- 上記の頻度テーブルを降順で表すことができる関数\n",
    "\n",
    "を定義し、分析をしやすくする。\n",
    "\n",
    "補足：次のIn[15]のコードが個人的にチャレンジングだったため、セル内メモが多くあります。ご了承ください。"
   ]
  },
  {
   "cell_type": "code",
   "execution_count": null,
   "metadata": {},
   "outputs": [],
   "source": [
    "# 指定データセットの列に関する頻度テーブルを作成する関数\n",
    "def frequency_table_percentages(dataset, column_index):\n",
    "    frequency_dict = {}\n",
    "    total_count = 0\n",
    "\n",
    "    for row in dataset: # このセクションでは、行の総数を求め、頻度テーブルを作成する\n",
    "        total_count += 1 # 行数の文だけ+1される\n",
    "        category = row[column_index] # apple/googleに使うめにindexは指定しない\n",
    "        \n",
    "        if category in frequency_dict:\n",
    "            frequency_dict[category] += 1\n",
    "        else:\n",
    "            frequency_dict[category] = 1\n",
    "    \n",
    "    percentage_dict = {} # 上で作成した頻度テーブルを%で表すための処理を行う\n",
    "    for category in frequency_dict:\n",
    "        percentage = (frequency_dict[category] / total_count) * 100\n",
    "        percentage_dict[category] = percentage # 作成した確率テーブルのキー経由でバリューを参照\n",
    "\n",
    "    return percentage_dict # 作成した確率テーブルを絶対スコープに反映\n",
    "\n",
    " # 最初の関数で作成した確率テーブルを降順に示すための関数\n",
    "def descend_table(dataset, column_index):\n",
    "    percentage_table = frequency_table_percentages(dataset, column_index) # 確率テーブル\n",
    "    percentage_list = [] # 降順で示したものを挿入するためのリスト\n",
    "\n",
    "    for category in percentage_table:\n",
    "        percentage_list.append((percentage_table[category], category)) # 割合とジャンル名をタプルにして用意した空リストに挿入する\n",
    "\n",
    "    percentage_list_sorted = sorted(percentage_list, reverse=True)# sorted()は昇順する関数\n",
    "                                                                  # デフォルトがreverse=False(昇順)だから、reverse=Trueにして降順にする\n",
    "    for percentage, category in percentage_list_sorted:\n",
    "        print(f\"{category:<20} : {percentage:.2f}%\") # f-string構文は文字列の中に変数を埋め込めるため、カスタマイズ性が高い。カテゴリ名と％を入れ替えて、見やすくする。\n",
    "                                                # :.2fで小数点以下をどこまで含めるかを指定。これはf-stringとセットで使える書き方\n",
    "                                                # 数値を最後に文字列として出力するのは、出力フォーマットを統一することで、人間にもコンピューターにも意味が明確に伝わりやすくなり、さらにレポート・表示・保存などの加工も柔軟に行えるようにするため。"
   ]
  },
  {
   "cell_type": "code",
   "execution_count": null,
   "metadata": {},
   "outputs": [
    {
     "name": "stdout",
     "output_type": "stream",
     "text": [
      "['id', 'track_name', 'size_bytes', 'currency', 'price', 'rating_count_tot', 'rating_count_ver', 'user_rating', 'user_rating_ver', 'ver', 'cont_rating', 'prime_genre', 'sup_devices.num', 'ipadSc_urls.num', 'lang.num', 'vpp_lic']\n"
     ]
    }
   ],
   "source": [
    "# prime_genreのインデックス番号を確認するために一旦表示\n",
    "print(apple_header)"
   ]
  },
  {
   "cell_type": "markdown",
   "metadata": {},
   "source": [
    "作成した関数を用いて、アップルストアの`prime_genre`の結果を確認する。"
   ]
  },
  {
   "cell_type": "code",
   "execution_count": 17,
   "metadata": {
    "scrolled": false
   },
   "outputs": [
    {
     "name": "stdout",
     "output_type": "stream",
     "text": [
      "Games                : 58.16%\n",
      "Entertainment        : 7.88%\n",
      "Photo & Video        : 4.97%\n",
      "Education            : 3.66%\n",
      "Social Networking    : 3.29%\n",
      "Shopping             : 2.61%\n",
      "Utilities            : 2.51%\n",
      "Sports               : 2.14%\n",
      "Music                : 2.05%\n",
      "Health & Fitness     : 2.02%\n",
      "Productivity         : 1.74%\n",
      "Lifestyle            : 1.58%\n",
      "News                 : 1.33%\n",
      "Travel               : 1.24%\n",
      "Finance              : 1.12%\n",
      "Weather              : 0.87%\n",
      "Food & Drink         : 0.81%\n",
      "Reference            : 0.56%\n",
      "Business             : 0.53%\n",
      "Book                 : 0.43%\n",
      "Navigation           : 0.19%\n",
      "Medical              : 0.19%\n",
      "Catalogs             : 0.12%\n"
     ]
    }
   ],
   "source": [
    "descend_table(free_english_apple, -5)"
   ]
  },
  {
   "cell_type": "markdown",
   "metadata": {},
   "source": [
    "ゲーム及びエンタメ系ジャンルが過半数を占めていて圧倒的に流通していることがわかる。このことにより利用者層は若者がメインの可能性が浮上してくるが、これはインストール数やレビュー数ではなく、あくまでも「どのカテゴリが一番**発信**されているか」の指標にしかならないため、安易にジャンルの**人気度**と紐づけてはいけない。"
   ]
  },
  {
   "cell_type": "markdown",
   "metadata": {},
   "source": [
    "続いてグーグルストアの`Genre`を確認する"
   ]
  },
  {
   "cell_type": "code",
   "execution_count": 18,
   "metadata": {},
   "outputs": [
    {
     "name": "stdout",
     "output_type": "stream",
     "text": [
      "Tools                : 8.45%\n",
      "Entertainment        : 6.07%\n",
      "Education            : 5.35%\n",
      "Business             : 4.59%\n",
      "Productivity         : 3.89%\n",
      "Lifestyle            : 3.89%\n",
      "Finance              : 3.70%\n",
      "Medical              : 3.53%\n",
      "Sports               : 3.46%\n",
      "Personalization      : 3.32%\n",
      "Communication        : 3.24%\n",
      "Action               : 3.10%\n",
      "Health & Fitness     : 3.08%\n",
      "Photography          : 2.94%\n",
      "News & Magazines     : 2.80%\n",
      "Social               : 2.66%\n",
      "Travel & Local       : 2.32%\n",
      "Shopping             : 2.25%\n",
      "Books & Reference    : 2.14%\n",
      "Simulation           : 2.04%\n",
      "Dating               : 1.86%\n",
      "Arcade               : 1.85%\n",
      "Video Players & Editors : 1.77%\n",
      "Casual               : 1.76%\n",
      "Maps & Navigation    : 1.40%\n",
      "Food & Drink         : 1.24%\n",
      "Puzzle               : 1.13%\n",
      "Racing               : 0.99%\n",
      "Role Playing         : 0.94%\n",
      "Libraries & Demo     : 0.94%\n",
      "Auto & Vehicles      : 0.93%\n",
      "Strategy             : 0.91%\n",
      "House & Home         : 0.82%\n",
      "Weather              : 0.80%\n",
      "Events               : 0.71%\n",
      "Adventure            : 0.68%\n",
      "Comics               : 0.61%\n",
      "Beauty               : 0.60%\n",
      "Art & Design         : 0.60%\n",
      "Parenting            : 0.50%\n",
      "Card                 : 0.45%\n",
      "Casino               : 0.43%\n",
      "Trivia               : 0.42%\n",
      "Educational;Education : 0.39%\n",
      "Board                : 0.38%\n",
      "Educational          : 0.37%\n",
      "Education;Education  : 0.34%\n",
      "Word                 : 0.26%\n",
      "Casual;Pretend Play  : 0.24%\n",
      "Music                : 0.20%\n",
      "Racing;Action & Adventure : 0.17%\n",
      "Puzzle;Brain Games   : 0.17%\n",
      "Entertainment;Music & Video : 0.17%\n",
      "Casual;Brain Games   : 0.14%\n",
      "Casual;Action & Adventure : 0.14%\n",
      "Arcade;Action & Adventure : 0.12%\n",
      "Action;Action & Adventure : 0.10%\n",
      "Educational;Pretend Play : 0.09%\n",
      "Simulation;Action & Adventure : 0.08%\n",
      "Parenting;Education  : 0.08%\n",
      "Entertainment;Brain Games : 0.08%\n",
      "Board;Brain Games    : 0.08%\n",
      "Parenting;Music & Video : 0.07%\n",
      "Educational;Brain Games : 0.07%\n",
      "Casual;Creativity    : 0.07%\n",
      "Art & Design;Creativity : 0.07%\n",
      "Education;Pretend Play : 0.06%\n",
      "Role Playing;Pretend Play : 0.05%\n",
      "Education;Creativity : 0.05%\n",
      "Role Playing;Action & Adventure : 0.03%\n",
      "Puzzle;Action & Adventure : 0.03%\n",
      "Entertainment;Creativity : 0.03%\n",
      "Entertainment;Action & Adventure : 0.03%\n",
      "Educational;Creativity : 0.03%\n",
      "Educational;Action & Adventure : 0.03%\n",
      "Education;Music & Video : 0.03%\n",
      "Education;Brain Games : 0.03%\n",
      "Education;Action & Adventure : 0.03%\n",
      "Adventure;Action & Adventure : 0.03%\n",
      "Video Players & Editors;Music & Video : 0.02%\n",
      "Sports;Action & Adventure : 0.02%\n",
      "Simulation;Pretend Play : 0.02%\n",
      "Puzzle;Creativity    : 0.02%\n",
      "Music;Music & Video  : 0.02%\n",
      "Entertainment;Pretend Play : 0.02%\n",
      "Casual;Education     : 0.02%\n",
      "Board;Action & Adventure : 0.02%\n",
      "Video Players & Editors;Creativity : 0.01%\n",
      "Trivia;Education     : 0.01%\n",
      "Travel & Local;Action & Adventure : 0.01%\n",
      "Tools;Education      : 0.01%\n",
      "Strategy;Education   : 0.01%\n",
      "Strategy;Creativity  : 0.01%\n",
      "Strategy;Action & Adventure : 0.01%\n",
      "Simulation;Education : 0.01%\n",
      "Role Playing;Brain Games : 0.01%\n",
      "Racing;Pretend Play  : 0.01%\n",
      "Puzzle;Education     : 0.01%\n",
      "Parenting;Brain Games : 0.01%\n",
      "Music & Audio;Music & Video : 0.01%\n",
      "Lifestyle;Pretend Play : 0.01%\n",
      "Lifestyle;Education  : 0.01%\n",
      "Health & Fitness;Education : 0.01%\n",
      "Health & Fitness;Action & Adventure : 0.01%\n",
      "Entertainment;Education : 0.01%\n",
      "Communication;Creativity : 0.01%\n",
      "Comics;Creativity    : 0.01%\n",
      "Casual;Music & Video : 0.01%\n",
      "Card;Action & Adventure : 0.01%\n",
      "Books & Reference;Education : 0.01%\n",
      "Art & Design;Pretend Play : 0.01%\n",
      "Art & Design;Action & Adventure : 0.01%\n",
      "Arcade;Pretend Play  : 0.01%\n",
      "Adventure;Education  : 0.01%\n"
     ]
    }
   ],
   "source": [
    "descend_table(free_english_google, -4)"
   ]
  },
  {
   "cell_type": "markdown",
   "metadata": {},
   "source": [
    "先ほどのアップルストアの検索結果と異なり、エンタメ系が特筆して流通しているわけではなく、ツールやビジネス関連の実務寄りのアプリとエンタメ系のアプリが拮抗している。一般的な市場ターゲットの年齢層が比較的高めで、学生よりも社会人が多い可能性がある。"
   ]
  },
  {
   "cell_type": "markdown",
   "metadata": {},
   "source": [
    "最後にグーグルストアの`Category`を確認する。"
   ]
  },
  {
   "cell_type": "code",
   "execution_count": 19,
   "metadata": {
    "scrolled": true
   },
   "outputs": [
    {
     "name": "stdout",
     "output_type": "stream",
     "text": [
      "FAMILY               : 18.91%\n",
      "GAME                 : 9.72%\n",
      "TOOLS                : 8.46%\n",
      "BUSINESS             : 4.59%\n",
      "LIFESTYLE            : 3.90%\n",
      "PRODUCTIVITY         : 3.89%\n",
      "FINANCE              : 3.70%\n",
      "MEDICAL              : 3.53%\n",
      "SPORTS               : 3.40%\n",
      "PERSONALIZATION      : 3.32%\n",
      "COMMUNICATION        : 3.24%\n",
      "HEALTH_AND_FITNESS   : 3.08%\n",
      "PHOTOGRAPHY          : 2.94%\n",
      "NEWS_AND_MAGAZINES   : 2.80%\n",
      "SOCIAL               : 2.66%\n",
      "TRAVEL_AND_LOCAL     : 2.34%\n",
      "SHOPPING             : 2.25%\n",
      "BOOKS_AND_REFERENCE  : 2.14%\n",
      "DATING               : 1.86%\n",
      "VIDEO_PLAYERS        : 1.79%\n",
      "MAPS_AND_NAVIGATION  : 1.40%\n",
      "FOOD_AND_DRINK       : 1.24%\n",
      "EDUCATION            : 1.16%\n",
      "ENTERTAINMENT        : 0.96%\n",
      "LIBRARIES_AND_DEMO   : 0.94%\n",
      "AUTO_AND_VEHICLES    : 0.93%\n",
      "HOUSE_AND_HOME       : 0.82%\n",
      "WEATHER              : 0.80%\n",
      "EVENTS               : 0.71%\n",
      "PARENTING            : 0.65%\n",
      "ART_AND_DESIGN       : 0.64%\n",
      "COMICS               : 0.62%\n",
      "BEAUTY               : 0.60%\n"
     ]
    }
   ],
   "source": [
    "descend_table(free_english_google, 1)"
   ]
  },
  {
   "cell_type": "markdown",
   "metadata": {},
   "source": [
    "`Family`というカテゴリが一番多いことがわかる。この要素以外の部分に関しては、先ほど調べた`Genre`と同じく、ツール・ビジネス系のアプリとエンタメ系のアプリが上位域で拮抗している。"
   ]
  },
  {
   "cell_type": "markdown",
   "metadata": {},
   "source": [
    "これらの結果から、無料の英語アプリに関して、アップルストアでは主にエンタメアプリが主に流通しており、一方でグーグルストアではエンタメアプリや実務系アプリにおけるカテゴリごとの格差があまり見られず、流通アプリに偏りが少ないということが分かった。\n",
    "\n",
    "しかし、先ほども述べたように今調べたデータはジャンルごとのアプリ数を示すものであり、利用者数や売り上げ数には言及していないため、どのジャンルが人気までかはわからない。\n",
    "\n",
    "なので、これからアプリの「人気度」に直接関連する要素の分析を始める。"
   ]
  },
  {
   "cell_type": "markdown",
   "metadata": {},
   "source": [
    "## ジャンルごとの人気アプリ"
   ]
  },
  {
   "cell_type": "markdown",
   "metadata": {},
   "source": [
    "各ストアにおける人気アプリを特定するため、インストール数を基準に調べていく。\n",
    "グーグルストアに関しては、`Installs`というコラムがあるためそちらを参照できるが、アップルストアにはインストール数に直接言及するコラムは存在しないため、レビュー数のコラム`rating_count_tot`で代用する。"
   ]
  },
  {
   "cell_type": "markdown",
   "metadata": {},
   "source": [
    "まずは、アップルストアからレビュー数`rating_count_tot`を基準に人気アプリを特定していく。出力結果がみやすいようにレビュー数を降順にして表示する。"
   ]
  },
  {
   "cell_type": "code",
   "execution_count": null,
   "metadata": {
    "scrolled": false
   },
   "outputs": [
    {
     "name": "stdout",
     "output_type": "stream",
     "text": [
      "Navigation           : 86090\n",
      "Reference            : 74942\n",
      "Social Networking    : 71548\n",
      "Music                : 57327\n",
      "Weather              : 52280\n",
      "Book                 : 39758\n",
      "Food & Drink         : 33334\n",
      "Finance              : 31468\n",
      "Photo & Video        : 28442\n",
      "Travel               : 28244\n",
      "Shopping             : 26920\n",
      "Health & Fitness     : 23298\n",
      "Sports               : 23009\n",
      "Games                : 22789\n",
      "News                 : 21248\n",
      "Productivity         : 21028\n",
      "Utilities            : 18684\n",
      "Lifestyle            : 16486\n",
      "Entertainment        : 14030\n",
      "Business             : 7491\n",
      "Education            : 7004\n",
      "Catalogs             : 4004\n",
      "Medical              : 612\n"
     ]
    }
   ],
   "source": [
    "# 各ジャンルの出現比率（%）を辞書形式で取得\n",
    "apple_genre = frequency_table_percentages(free_english_apple, -5)\n",
    "\n",
    "# 上で取得した辞書形式のデータをあとで挿入してリスト形式にするために空リストを用意\n",
    "apple_genre_list = []\n",
    "\n",
    "# ジャンルを跨いで重複処理をしないよう、ジャンルごとに値を初期化する設定を施す\n",
    "for genre in apple_genre:\n",
    "    total = 0\n",
    "    len_genre = 0\n",
    "    # 各ジャンルごとに平均レビューを算出\n",
    "    for app in free_english_apple:\n",
    "        app_genre = app[-5]\n",
    "        if app_genre == genre:\n",
    "            No_reviews = int(app[5])\n",
    "            total += No_reviews\n",
    "            len_genre += 1\n",
    "            \n",
    "    avg_No_reviews = total / len_genre\n",
    "    apple_genre_list.append((genre, avg_No_reviews)) #ジャンルとレビューの位置を入れ替えれば後のsorted()の中身がよりシンプルなるが、lambda構文を使ってみたかったため、あえてそのままにした\n",
    "\n",
    "# 平均レビュー数を多い順（降順）に並び替え\n",
    "descend_apple = sorted(apple_genre_list, key=lambda x: x[1], reverse=True)\n",
    "\n",
    "for genre, avg_No_reviews in descend_apple:\n",
    "    print(f\"{genre:<20} : {avg_No_reviews:.0f}\")"
   ]
  },
  {
   "cell_type": "markdown",
   "metadata": {},
   "source": [
    "アップルストアでは、レビュー件数（インストール数の代用）に関しては`Nvigation`カテゴリが一番高いことが分かった。\n",
    "\n",
    "また、In[17]の分析で明らかになった、流通度が最も高かったゲーム・エンタメカテゴリのレビュー件数がそこまで高くないことから、**需要があまり高くない上に競争率が高いジャンルである可能性が高い**と考えられる。"
   ]
  },
  {
   "cell_type": "markdown",
   "metadata": {},
   "source": [
    "それでは、Navigationアプリの中でもどのようなアプリが人気なのかを具体的に調べていく。"
   ]
  },
  {
   "cell_type": "code",
   "execution_count": null,
   "metadata": {},
   "outputs": [
    {
     "name": "stdout",
     "output_type": "stream",
     "text": [
      "Waze - GPS Navigation, Maps & Real-time Traffic    : 345,046\n",
      "Google Maps - Navigation & Transit                 : 154,911\n",
      "Geocaching®                                        : 12,811\n",
      "CoPilot GPS – Car Navigation & Offline Maps        : 3,582\n",
      "ImmobilienScout24: Real Estate Search in Germany   : 187\n",
      "Railway Route Search                               : 5\n"
     ]
    }
   ],
   "source": [
    "# 取り出したNavigationアプリだけを加えるための空リストを用意\n",
    "navigation_apps = []\n",
    "\n",
    "for app in free_english_apple:\n",
    "    if app[-5] == 'Navigation':\n",
    "        No_reviews = int(app[5])\n",
    "        \n",
    "        navigation_apps.append((app[1], No_reviews))\n",
    "        \n",
    "for name, reviews in navigation_apps:\n",
    "    print(f\"{name: <50} : {reviews:,}\") # 見やすいように出力形式を整える"
   ]
  },
  {
   "cell_type": "markdown",
   "metadata": {},
   "source": [
    "この結果により、Nagvigationカテゴリのレビュー数がとても多いのは、WazeやGoogle Mapsといったアプリの影響が大きいことが分かった。\n",
    "\n",
    "このように、全体のレビュー平均数が多くても、超有名タイトルやブランドのアプリの影響が大きいと、必ずしもジャンル自体の人気度や需要を示す指標にならないことが分かる。このような現象は、音楽ならspotify、SNSならskypeやFacebookといった有名アプリの独占によって発生している可能性があると推測できる。\n",
    "\n",
    "従って、これからの分析ではこのような超有名タイトルを排除し、よりフラットな目線でどのようなアプリが各ストアで人気なのかを調べていく必要がありそうだ。\n",
    "\n",
    "とりあえず、先ほどの出力結果のランキング2位であるReferenceカテゴリを調べてみる。理由は、ほかの上位カテゴリと異なり、どのようなアプリが独占しているか想像がつきにくく謎が多いためだ。念のためにReferenceアプリは具体的などのようなアプリが人気なのかを調べる。"
   ]
  },
  {
   "cell_type": "code",
   "execution_count": null,
   "metadata": {
    "scrolled": true
   },
   "outputs": [
    {
     "name": "stdout",
     "output_type": "stream",
     "text": [
      "Bible                                                                                      : 985,920\n",
      "\n",
      "Dictionary.com Dictionary & Thesaurus                                                      : 200,047\n",
      "\n",
      "Dictionary.com Dictionary & Thesaurus for iPad                                             : 54,175\n",
      "\n",
      "Google Translate                                                                           : 26,786\n",
      "\n",
      "Muslim Pro: Ramadan 2017 Prayer Times, Azan, Quran                                         : 18,418\n",
      "\n",
      "New Furniture Mods - Pocket Wiki & Game Tools for Minecraft PC Edition                     : 17,588\n",
      "\n",
      "Merriam-Webster Dictionary                                                                 : 16,849\n",
      "\n",
      "Night Sky                                                                                  : 12,122\n",
      "\n",
      "City Maps for Minecraft PE - The Best Maps for Minecraft Pocket Edition (MCPE)             : 8,535\n",
      "\n",
      "LUCKY BLOCK MOD ™ for Minecraft PC Edition - The Best Pocket Wiki & Mods Installer Tools   : 4,693\n",
      "\n",
      "GUNS MODS for Minecraft PC Edition - Mods Tools                                            : 1,497\n",
      "\n",
      "Guides for Pokémon GO - Pokemon GO News and Cheats                                         : 826\n",
      "\n",
      "WWDC                                                                                       : 762\n",
      "\n",
      "Horror Maps for Minecraft PE - Download The Scariest Maps for Minecraft Pocket Edition (MCPE) Free : 718\n",
      "\n",
      "VPN Express                                                                                : 14\n",
      "\n",
      "Real Bike Traffic Rider Virtual Reality Glasses                                            : 8\n",
      "\n",
      "教えて!goo                                                                                    : 0\n",
      "\n",
      "Jishokun-Japanese English Dictionary & Translator                                          : 0\n",
      "\n"
     ]
    }
   ],
   "source": [
    "# 取り出したReferenceアプリをだけを加えるための空リストを用意\n",
    "reference_apps = []\n",
    "\n",
    "for app in free_english_apple:\n",
    "    if app[-5] == 'Reference':\n",
    "        No_reviews = int(app[5])\n",
    "        \n",
    "        reference_apps.append((app[1], No_reviews))\n",
    "        \n",
    "descend_reference_apps = sorted(reference_apps, key=lambda x: x[1], reverse=True)\n",
    "\n",
    "for name, reviews in descend_reference_apps:\n",
    "    print(f\"{name: <90} : {reviews:,}\")\n",
    "    print() # 出力結果がみやすいように改行を入れて表示"
   ]
  },
  {
   "cell_type": "markdown",
   "metadata": {},
   "source": [
    "この結果より、Referecneカテゴリの主な人気アプリは聖書と辞書系アプリ、そしてゲームのMODだといえる。興味深いのは、聖書はさておき、これらのアプリに共通することは拡張的な機能としてその価値を発揮していることだ。\n",
    "\n",
    "つまり、先ほどまでの`Navigation`や`Music`アプリ等とは異なり、ブランドやコンテンツではなくその機能自体に需要があるものだと考えられる。機能であれば、弊社のアプリに導入することができるかもしれないし、なにより辞書などの低予算でも実現可能性の高い機能なのが魅力的である。\n",
    "\n",
    "この辞書機能はその柔軟性を鑑みてもポテンシャルがかなり高いといえる。辞書機能を拡張機能として弊社のアプリに導入することで、「メインのコンテンツ＋辞書機能」といった風に当社としても柔軟にサービスを展開できる可能性がある。\n",
    "\n",
    "また、辞書などの機能面における拡張性は、ユーザーが辞書検索などをするためにアプリを離れる時間を減らすことに繋がり、ユーザーのアプリに対するエンゲージメントが維持される結果として広告収益の向上が見込めるため、検討の余地があるといえる。\n",
    "\n",
    "読書アプリは先ほど挙げた辞書機能との相性は良いが、他の上位に食い込んでいる天気、飲食、ファイナンス系アプリに関しては、次のことが言える。\n",
    "\n",
    "- **天気**: \n",
    "天気アプリは短時間の利用で済む特性があり、広告収益の最大化には繋がりにくいことが考えられる。また、天候データを取得するためのAPIが有料である可能性も危惧される。\n",
    "\n",
    "\n",
    "- **飲食**: \n",
    "主にマックやスタバといった大手飲食店のアプリが独占していることが考えられる。実際に飲食サービスを手掛けている会社であれば開発価値があるものの、弊社はそのようなサービスを提供していないため領域外のジャンルであるといえる。\n",
    "\n",
    "\n",
    "- **ファイナンス**: \n",
    "お金に関するアプリ開発には銀行・金融・資産運用などの専門知識が必要になってくるが、弊社としては専門家を雇うための出資はなるべく避けたいのが現実である。\n",
    "\n",
    "----\n",
    "アップルストアの人気アプリについてはここでひと段落つけて、次にグーグルストアの人気アプリのInstallsインストール数について調べる。"
   ]
  },
  {
   "cell_type": "code",
   "execution_count": 23,
   "metadata": {
    "scrolled": true
   },
   "outputs": [
    {
     "name": "stdout",
     "output_type": "stream",
     "text": [
      "1,000,000+           : 15.73%\n",
      "100,000+             : 11.55%\n",
      "10,000,000+          : 10.55%\n",
      "10,000+              : 10.20%\n",
      "1,000+               : 8.39%\n",
      "100+                 : 6.92%\n",
      "5,000,000+           : 6.83%\n",
      "500,000+             : 5.56%\n",
      "50,000+              : 4.77%\n",
      "5,000+               : 4.51%\n",
      "10+                  : 3.54%\n",
      "500+                 : 3.25%\n",
      "50,000,000+          : 2.30%\n",
      "100,000,000+         : 2.13%\n",
      "50+                  : 1.92%\n",
      "5+                   : 0.79%\n",
      "1+                   : 0.51%\n",
      "500,000,000+         : 0.27%\n",
      "1,000,000,000+       : 0.23%\n",
      "0+                   : 0.05%\n",
      "0                    : 0.01%\n"
     ]
    }
   ],
   "source": [
    "descend_table(free_english_google, 5)"
   ]
  },
  {
   "cell_type": "markdown",
   "metadata": {},
   "source": [
    "今回の分析では正確なインストール数を知る必要はなく、相対的にどのジャンルのアプリがインストール数が多いかを知ればいいので、インストール数の区分けはこのままで概算処理を続ける。\n",
    "\n",
    "ただ、現段階では各インストール数の区分けに関する確率テーブルが出力されていて、どのジャンルのアプリがインストール数が多いのかわからないことが問題である。\n",
    "\n",
    "なので、これからジャンルごとのインストール数とを示すための処理を行う。"
   ]
  },
  {
   "cell_type": "code",
   "execution_count": null,
   "metadata": {
    "scrolled": true
   },
   "outputs": [
    {
     "name": "stdout",
     "output_type": "stream",
     "text": [
      "COMMUNICATION        : 38,456,119\n",
      "VIDEO_PLAYERS        : 24,727,872\n",
      "SOCIAL               : 23,253,652\n",
      "PHOTOGRAPHY          : 17,840,110\n",
      "PRODUCTIVITY         : 16,787,331\n",
      "GAME                 : 15,588,016\n",
      "TRAVEL_AND_LOCAL     : 13,984,078\n",
      "ENTERTAINMENT        : 11,640,706\n",
      "TOOLS                : 10,801,391\n",
      "NEWS_AND_MAGAZINES   : 9,549,178\n",
      "BOOKS_AND_REFERENCE  : 8,767,812\n",
      "SHOPPING             : 7,036,877\n",
      "PERSONALIZATION      : 5,201,483\n",
      "WEATHER              : 5,074,486\n",
      "HEALTH_AND_FITNESS   : 4,188,822\n",
      "MAPS_AND_NAVIGATION  : 4,056,942\n",
      "FAMILY               : 3,695,642\n",
      "SPORTS               : 3,638,640\n",
      "ART_AND_DESIGN       : 1,986,335\n",
      "FOOD_AND_DRINK       : 1,924,898\n",
      "EDUCATION            : 1,833,495\n",
      "BUSINESS             : 1,712,290\n",
      "LIFESTYLE            : 1,437,816\n",
      "FINANCE              : 1,387,692\n",
      "HOUSE_AND_HOME       : 1,331,541\n",
      "DATING               : 854,029\n",
      "COMICS               : 817,657\n",
      "AUTO_AND_VEHICLES    : 647,318\n",
      "LIBRARIES_AND_DEMO   : 638,504\n",
      "PARENTING            : 542,604\n",
      "BEAUTY               : 513,152\n",
      "EVENTS               : 253,542\n",
      "MEDICAL              : 120,551\n"
     ]
    }
   ],
   "source": [
    "# In[20]と同じような処理を行う\n",
    "google_category = frequency_table_percentages(free_english_google, 1)\n",
    "category_installed = []\n",
    "\n",
    "for genre in google_category:\n",
    "    total = 0\n",
    "    len_category = 0\n",
    "    \n",
    "    for app in free_english_google:\n",
    "        if app[1] == genre:\n",
    "            installs = app[5].replace(',', '').replace('+','') # 平均値を計算する上でノイズになる部分を除去する\n",
    "            total += int(installs)\n",
    "            len_category += 1\n",
    "            \n",
    "    avg_installs = total / len_category\n",
    "    category_installed.append((genre, avg_installs))\n",
    "    \n",
    "category_installed_sorted = sorted(category_installed, key=lambda x: x[1], reverse=True)\n",
    "\n",
    "for category, avg in category_installed_sorted:\n",
    "    print(f\"{category:<20} : {avg:,.0f}\")"
   ]
  },
  {
   "cell_type": "markdown",
   "metadata": {},
   "source": [
    "この結果から、`COMUNICATION`カテゴリのアプリが一番インストール数が多いことがわかる。なので、これからその中身を調べる。"
   ]
  },
  {
   "cell_type": "code",
   "execution_count": null,
   "metadata": {
    "scrolled": true
   },
   "outputs": [
    {
     "name": "stdout",
     "output_type": "stream",
     "text": [
      "WhatsApp Messenger                                 : 1,000,000,000+\n",
      "Messenger – Text and Video Chat for Free           : 1,000,000,000+\n",
      "Skype - free IM & video calls                      : 1,000,000,000+\n",
      "Google Chrome: Fast & Secure                       : 1,000,000,000+\n",
      "Gmail                                              : 1,000,000,000+\n",
      "Hangouts                                           : 1,000,000,000+\n",
      "Google Duo - High Quality Video Calls              : 500,000,000+\n",
      "imo free video calls and chat                      : 500,000,000+\n",
      "LINE: Free Calls & Messages                        : 500,000,000+\n",
      "UC Browser - Fast Download Private & Secure        : 500,000,000+\n",
      "Viber Messenger                                    : 500,000,000+\n",
      "imo beta free calls and text                       : 100,000,000+\n",
      "Android Messages                                   : 100,000,000+\n",
      "Who                                                : 100,000,000+\n",
      "GO SMS Pro - Messenger, Free Themes, Emoji         : 100,000,000+\n",
      "Firefox Browser fast & private                     : 100,000,000+\n",
      "Messenger Lite: Free Calls & Messages              : 100,000,000+\n",
      "Kik                                                : 100,000,000+\n",
      "KakaoTalk: Free Calls & Text                       : 100,000,000+\n",
      "Opera Mini - fast web browser                      : 100,000,000+\n",
      "Opera Browser: Fast and Secure                     : 100,000,000+\n",
      "Telegram                                           : 100,000,000+\n",
      "Truecaller: Caller ID, SMS spam blocking & Dialer  : 100,000,000+\n",
      "UC Browser Mini -Tiny Fast Private & Secure        : 100,000,000+\n",
      "WeChat                                             : 100,000,000+\n",
      "Yahoo Mail – Stay Organized                        : 100,000,000+\n",
      "BBM - Free Calls & Messages                        : 100,000,000+\n"
     ]
    }
   ],
   "source": [
    "communication_apps = []\n",
    "\n",
    "# COMMUNICATION アプリの中でも、指定文字列（インストール数上位層）に該当するものだけを抽出\n",
    "for app in free_english_google:\n",
    "    if app[1] == 'COMMUNICATION' and app[5] in ('1,000,000,000+',\n",
    "                                                '500,000,000+',\n",
    "                                                '100,000,000+'):\n",
    "        installs = int(app[5].replace(',', '').replace('+', '')) # 数字文字列を数値化し後に計算しやすいようにする\n",
    "        \n",
    "        communication_apps.append((app[0], installs))\n",
    "        \n",
    "descend_communication_apps = sorted(communication_apps, key=lambda x: x[1], reverse=True)\n",
    "\n",
    "for name, installs in descend_communication_apps:\n",
    "    print(f\"{name: <50} : {installs:,}+\")"
   ]
  },
  {
   "cell_type": "markdown",
   "metadata": {},
   "source": [
    "100,000,000インストール以上あるアプリは、超有名タイトルでカテゴリを独占しているアプリであるため、参考にならなそうだ。ただこのままでは印象論止まりなので、実際に全体の平均値（38,456,119個）と100,000,000インストール以上あるアプリを除いたアプリのインストール数の平均値を算出・比較して確認する。"
   ]
  },
  {
   "cell_type": "code",
   "execution_count": null,
   "metadata": {},
   "outputs": [
    {
     "name": "stdout",
     "output_type": "stream",
     "text": [
      "average under 1 billion : 3603485\n"
     ]
    }
   ],
   "source": [
    "under_billion_app = []\n",
    "\n",
    "for app in free_english_google:\n",
    "    No_installs = int(app[5].replace(',', '').replace('+', ''))\n",
    "    if app[1] == 'COMMUNICATION' and No_installs < 100_000_000: # 1億インストール未満のアプリを抽出し空リストに加える\n",
    "        under_billion_app.append(No_installs)\n",
    "        \n",
    "avg_under_billion_installs = sum(under_billion_app) / len(under_billion_app)\n",
    "\n",
    "print(f\"average under 1 billion : {avg_under_billion_installs:.0f}\")"
   ]
  },
  {
   "cell_type": "markdown",
   "metadata": {},
   "source": [
    "結果、全体の平均値は4千万弱、1億インストール以下のアプリの中での平均値は4百万弱であるため、全体の平均値は上位の独占アプリの影響を強く受けていることの確認が取れた。\n",
    "\n",
    "このような現象は他の人気カテゴリでも発生していると予測できるが、全てのカテゴリを1から調べるのは合理性に欠ける。むしろ、すでにIn[22]で我々の開発プロダクトとの相性の良さが示唆されているReferenceカテゴリに焦点を当てるべきである。\n",
    "\n",
    "よって、これからアップルストアにおけるReferenceカテゴリに対応するグーグルストアのREFERENCE_AND_BOOKSカテゴリ（In[24]を参照）について深堀する。"
   ]
  },
  {
   "cell_type": "code",
   "execution_count": null,
   "metadata": {
    "scrolled": false
   },
   "outputs": [
    {
     "name": "stdout",
     "output_type": "stream",
     "text": [
      "Google Play Books                                       : 1,000,000,000+\n",
      "Bible                                                   : 100,000,000+\n",
      "Amazon Kindle                                           : 100,000,000+\n",
      "Wattpad 📖 Free Books                                    : 100,000,000+\n",
      "Audiobooks from Audible                                 : 100,000,000+\n",
      "Wikipedia                                               : 10,000,000+\n",
      "Cool Reader                                             : 10,000,000+\n",
      "FBReader: Favorite Book Reader                          : 10,000,000+\n",
      "HTC Help                                                : 10,000,000+\n",
      "Moon+ Reader                                            : 10,000,000+\n",
      "Aldiko Book Reader                                      : 10,000,000+\n",
      "Al-Quran (Free)                                         : 10,000,000+\n",
      "Al Quran Indonesia                                      : 10,000,000+\n",
      "Al'Quran Bahasa Indonesia                               : 10,000,000+\n",
      "Quran for Android                                       : 10,000,000+\n",
      "Dictionary.com: Find Definitions for English Words      : 10,000,000+\n",
      "English Dictionary - Offline                            : 10,000,000+\n",
      "NOOK: Read eBooks & Magazines                           : 10,000,000+\n",
      "Dictionary                                              : 10,000,000+\n",
      "Spanish English Translator                              : 10,000,000+\n",
      "Dictionary - Merriam-Webster                            : 10,000,000+\n",
      "JW Library                                              : 10,000,000+\n",
      "Oxford Dictionary of English : Free                     : 10,000,000+\n",
      "English Hindi Dictionary                                : 10,000,000+\n",
      "AlReader -any text book reader                          : 5,000,000+\n",
      "Ebook Reader                                            : 5,000,000+\n",
      "Read books online                                       : 5,000,000+\n",
      "Ancestry                                                : 5,000,000+\n",
      "Dictionary - WordWeb                                    : 5,000,000+\n",
      "50000 Free eBooks & Free AudioBooks                     : 5,000,000+\n",
      "Al Quran : EAlim - Translations & MP3 Offline           : 5,000,000+\n",
      "Bible KJV                                               : 5,000,000+\n",
      "English to Hindi Dictionary                             : 5,000,000+\n",
      "Book store                                              : 1,000,000+\n",
      "Free Books - Spirit Fanfiction and Stories              : 1,000,000+\n",
      "FamilySearch Tree                                       : 1,000,000+\n",
      "Cloud of Books                                          : 1,000,000+\n",
      "ReadEra – free ebook reader                             : 1,000,000+\n",
      "eBoox: book reader fb2 epub zip                         : 1,000,000+\n",
      "All Maths Formulas                                      : 1,000,000+\n",
      "English-Myanmar Dictionary                              : 1,000,000+\n",
      "Golden Dictionary (EN-AR)                               : 1,000,000+\n",
      "All Language Translator Free                            : 1,000,000+\n",
      "Al Quran Al karim                                       : 1,000,000+\n",
      "Koran Read &MP3 30 Juz Offline                          : 1,000,000+\n",
      "Hafizi Quran 15 lines per page                          : 1,000,000+\n",
      "Satellite AR                                            : 1,000,000+\n",
      "Oxford A-Z of English Usage                             : 1,000,000+\n",
      "Brilliant Quotes: Life, Love, Family & Motivation       : 1,000,000+\n",
      "Stats Royale for Clash Royale                           : 1,000,000+\n",
      "wikiHow: how to do anything                             : 1,000,000+\n",
      "EGW Writings                                            : 1,000,000+\n",
      "My Little Pony AR Guide                                 : 1,000,000+\n",
      "English Grammar Complete Handbook                       : 500,000+\n",
      "Offline: English to Tagalog Dictionary                  : 500,000+\n",
      "Recipes of Prophetic Medicine for free                  : 500,000+\n",
      "English to Urdu Dictionary                              : 500,000+\n",
      "English Persian Dictionary                              : 500,000+\n",
      "Flybook                                                 : 500,000+\n",
      "Only 30 days in English, the guideline is guaranteed    : 500,000+\n",
      "Azpen eReader                                           : 500,000+\n",
      "Google I/O 2018                                         : 500,000+\n",
      "Al Quran (Tafsir & by Word)                             : 500,000+\n",
      "Al-Quran 30 Juz free copies                             : 500,000+\n",
      "Youboox - Livres, BD et magazines                       : 500,000+\n",
      "NOOK Audiobooks                                         : 500,000+\n",
      "NOOK App for NOOK Devices                               : 500,000+\n",
      "SDA Sabbath School Quarterly                            : 500,000+\n",
      "Golden Dictionary (FR-AR)                               : 500,000+\n",
      "Download free book with green book                      : 100,000+\n",
      "Free Panda Radio Music                                  : 100,000+\n",
      "Offline English Dictionary                              : 100,000+\n",
      "Litnet - E-books                                        : 100,000+\n",
      "English translation from Bengali                        : 100,000+\n",
      "Pdf Book Download - Read Pdf Book                       : 100,000+\n",
      "Free Book Reader                                        : 100,000+\n",
      "URBANO V 02 instruction manual                          : 100,000+\n",
      "Aab e Hayat Full Novel                                  : 100,000+\n",
      "V Made                                                  : 100,000+\n",
      "Guide (for X-MEN)                                       : 100,000+\n",
      "Surah Al-Waqiah                                         : 100,000+\n",
      "Hisnul Al Muslim - Hisn Invocations & Adhkaar           : 100,000+\n",
      "cloudLibrary                                            : 100,000+\n",
      "Sabbath School                                          : 100,000+\n",
      "How to Write CV                                         : 100,000+\n",
      "EGW Writings 2                                          : 100,000+\n",
      "Bible with EGW Comments                                 : 100,000+\n",
      "Hymnes et Louanges                                      : 100,000+\n",
      "BakaReader EX                                           : 100,000+\n",
      "E-Book Read - Read Book for free                        : 50,000+\n",
      "eBoox new: Reader for fb2 epub zip books                : 50,000+\n",
      "SH-02J Owner's Manual (Android 8.0)                     : 50,000+\n",
      "C Programs and Reference                                : 50,000+\n",
      "C Programs Handbook                                     : 50,000+\n",
      "Fertilizer Removal By Crop                              : 50,000+\n",
      "Al-Muhaffiz                                             : 50,000+\n",
      "Bible du Semeur-BDS (French)                            : 50,000+\n",
      "La citadelle du musulman                                : 50,000+\n",
      "DV 2019 - EDV Photo & Form                              : 50,000+\n",
      "EZ Quran                                                : 50,000+\n",
      "Anonymous caller detection                              : 10,000+\n",
      "R Language Reference Guide                              : 10,000+\n",
      "Ae Allah na Dai (Rasa)                                  : 10,000+\n",
      "Ag PhD Field Guide                                      : 10,000+\n",
      "Ag PhD Deficiencies                                     : 10,000+\n",
      "Kinot & Eichah for Tisha B'Av                           : 10,000+\n",
      "Ay Hasnain k Nana Milad Naat                            : 10,000+\n",
      "Ay Mohabbat Teri Khatir Novel                           : 10,000+\n",
      "BD All Sim Offer                                        : 10,000+\n",
      "B&H Kids AR                                             : 10,000+\n",
      "Borneo Bible, BM Bible                                  : 10,000+\n",
      "BR Ambedkar Biography & Quotes                          : 10,000+\n",
      "Kristian Hla Bu                                         : 10,000+\n",
      "Bootable Methods(USB-CD-DVD)                            : 10,000+\n",
      "Easy Cv maker 2018                                      : 10,000+\n",
      "Guide for DB Xenoverse                                  : 10,000+\n",
      "Guide for DB Xenoverse 2                                : 10,000+\n",
      "DM Screen                                               : 10,000+\n",
      "DV 2019 Entry Guide                                     : 10,000+\n",
      "TN Patta Citta & EC                                     : 10,000+\n",
      "AP Stamps and Registration                              : 10,000+\n",
      "English To Shona Dictionary                             : 10,000+\n",
      "Bulgarian French Dictionary Fr                          : 10,000+\n",
      "Learn R Programming Full                                : 5,000+\n",
      "AC Air condition Troubleshoot,Repair,Maintenance        : 5,000+\n",
      "AW Tozer Devotionals - Daily                            : 5,000+\n",
      "AY Sing                                                 : 5,000+\n",
      "B y H Niños ES                                          : 5,000+\n",
      "Browsery by Barnes & Noble                              : 5,000+\n",
      "CA Laws 2018 (California Laws and Codes)                : 5,000+\n",
      "Learn CT Scan Of Head                                   : 5,000+\n",
      "DC HSEMA                                                : 5,000+\n",
      "Bilingual Dictionary Audio App                          : 5,000+\n",
      "EC - AP & Telangana                                     : 5,000+\n",
      "Duaa Ek Ibaadat                                         : 5,000+\n",
      "FA Part 1 & 2 Past Papers Solved Free – Offline         : 5,000+\n",
      "Fanfic-FR                                               : 5,000+\n",
      "C Offline Tutorial                                      : 1,000+\n",
      "R Programing Offline Tutorial                           : 1,000+\n",
      "R Quick Reference Big Data                              : 1,000+\n",
      "AE Bulletins                                            : 1,000+\n",
      "Ag PhD Planting Population Calculator                   : 1,000+\n",
      "Ag PhD Soybean Diseases                                 : 1,000+\n",
      "Tozer Devotional -Series 1                              : 1,000+\n",
      "The Pursuit of God                                      : 1,000+\n",
      "Arizona Statutes, ARS (AZ Law)                          : 1,000+\n",
      "BD Fishpedia                                            : 1,000+\n",
      "BM Box                                                  : 1,000+\n",
      "bp e-store                                              : 1,000+\n",
      "SA HLA BU                                               : 1,000+\n",
      "CW Nuclear                                              : 1,000+\n",
      "DC Public Library                                       : 1,000+\n",
      "Painting Lulu DC Super Friends                          : 1,000+\n",
      "Fix Error Google Playstore                              : 1,000+\n",
      "D. H. Lawrence Poems FREE                               : 1,000+\n",
      "Dr. Doug's Tips                                         : 1,000+\n",
      "DV 2018 Winners Guide                                   : 1,000+\n",
      "EB Annual Meetings                                      : 1,000+\n",
      "EP Research Service                                     : 1,000+\n",
      "EU Charter                                              : 1,000+\n",
      "EU Data Protection                                      : 1,000+\n",
      "La Fe de Jesus                                          : 1,000+\n",
      "Florida - Pocket Brainbook                              : 1,000+\n",
      "Florida Statutes (FL Code)                              : 1,000+\n",
      "Greek Bible FP (Audio)                                  : 1,000+\n",
      "Chemin (fr)                                             : 1,000+\n",
      "The SCP Foundation DB fr nn5n                           : 1,000+\n",
      "Catholic La Bu Zo Kam                                   : 500+\n",
      "Learn SAP BW                                            : 500+\n",
      "Learn SAP BW on HANA                                    : 500+\n",
      "SDA Collegiate Quarterly                                : 500+\n",
      "Modlitební knížka CZ                                    : 500+\n",
      "La Fe de Jesús                                          : 500+\n",
      "Le Fe de Jesus                                          : 500+\n",
      "MOD Black for BM                                        : 100+\n",
      "Anime Mod for BM                                        : 100+\n",
      "BU Alsace                                               : 100+\n",
      "Cypress College Library                                 : 100+\n",
      "CompactiMa EC pH Calibration                            : 100+\n",
      "EU IP Codes                                             : 100+\n",
      "A-J Media Vault                                         : 50+\n",
      "GATE 21 years CS Papers(2011-2018 Solved)               : 50+\n",
      "Learn R Programming                                     : 10+\n",
      "Khrifa Hla Bu (Solfa)                                   : 10+\n",
      "CY Spray nozzle                                         : 10+\n",
      "Guide for IMS DB                                        : 10+\n",
      "Guide for R Programming                                 : 5+\n",
      "BibleRead En Cy Zh Yue                                  : 5+\n",
      "CZ-Help                                                 : 5+\n",
      "EW PDF                                                  : 5+\n"
     ]
    }
   ],
   "source": [
    "# REFERENCE_AND_BOOKSアプリを加え、あとで並び替えるための空リストを用意\n",
    "books_and_reference = []\n",
    "\n",
    "for app in free_english_google:\n",
    "    if app[1] == 'BOOKS_AND_REFERENCE':\n",
    "        No_installs = int(app[5].replace(',', '').replace('+', ''))\n",
    "        books_and_reference.append((app[0], No_installs))\n",
    "        \n",
    "descend_books_and_reference = sorted(books_and_reference, key=lambda x: x[1], reverse=True)\n",
    "\n",
    "for name, installs in descend_books_and_reference:\n",
    "    print(f\"{name: <55} : {installs:,}+\")"
   ]
  },
  {
   "cell_type": "markdown",
   "metadata": {},
   "source": [
    "上位独占の有名タイトルをのぞけば、\n",
    "\n",
    "- reader系の機能を持つアプリ\n",
    "- 聖書の読書体験を向上させる機能をもつアプリ\n",
    "- 辞書系のアプリ\n",
    "\n",
    "がインストール数1千万以上の区域を占めており、需要が高いことの裏付けができた。\n",
    "\n",
    "これらはIn[22]でも言及したように、コンテンツではなく機能として魅力を持つものであり、当社のアプリにも実装できる可能性がある。"
   ]
  },
  {
   "cell_type": "markdown",
   "metadata": {},
   "source": [
    "## 結論"
   ]
  },
  {
   "cell_type": "markdown",
   "metadata": {},
   "source": [
    "今回のプロジェクトでは、アップルストアとグーグルストアのデータセットから、当社のアプリ開発に役立ちそうな情報を分析した。\n",
    "\n",
    "その結果、当社のアプリ開発KPIを達成するために、各ストアにおけるアプリの中で、そのジャンル毎のインストール数などを比較分析することで、以下の3点\n",
    "\n",
    "- アップルストアとグーグルストアの両方で需要がある\n",
    "- 低予算で実装可能である\n",
    "- 広告収入型アプリとの相性が良い\n",
    "\n",
    "の要素を持つアプリ開発のためのインサイトを得ることに努めた。結果、その一つの候補としてreference系アプリの「機能」面がそれに当てはまることが分かった。これはコンテンツ自体ではなく、機能的な魅力であるため、弊社のアプリに実装することが現実的に可能であり、検討の価値がある。In[22]でも言及したように、Reference系の機能とそれに相性の良いコンテンツを組み合わせれば、ユーザーがわざわざそれらの機能を使うためにアプリを離れる必要がなくなり、アプリのエンゲージ率の向上に伴い広告収益の向上も見込める。\n",
    "\n",
    "また、避けるべき市場として、アップルストアにおけるエンタメ・ゲームアプリがあることが分かった。In[20]でも言及したように、需要の高さに対して供給が多すぎるカテゴリであるため、競争率が高く初期投資に対してROIが低くなるリスクが高いためである。\n",
    "\n",
    "しかし、依然として「どのようなコンテンツのアプリにするか」「reference機能の中でもどのようなものがROIが最も高いか」などの分析の課題が残る。これらの課題は今回対象にした2つのデータセットだけでなく、ほかにも複数のデータセット、とくにSNSやレビューの定性分析も含めた複合的な分析を行うことで解消する必要があると考えられる。本分析は、こうした多面的なマーケティング判断の第一歩となる。"
   ]
  }
 ],
 "metadata": {
  "kernelspec": {
   "display_name": "Python 3",
   "language": "python",
   "name": "python3"
  },
  "language_info": {
   "codemirror_mode": {
    "name": "ipython",
    "version": 3
   },
   "file_extension": ".py",
   "mimetype": "text/x-python",
   "name": "python",
   "nbconvert_exporter": "python",
   "pygments_lexer": "ipython3",
   "version": "3.8.2"
  }
 },
 "nbformat": 4,
 "nbformat_minor": 2
}
